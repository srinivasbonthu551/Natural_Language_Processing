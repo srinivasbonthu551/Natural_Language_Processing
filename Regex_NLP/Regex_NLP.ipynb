{
 "cells": [
  {
   "cell_type": "markdown",
   "id": "15c40f4d",
   "metadata": {},
   "source": [
    "   #                             REGULAR EXPRESSIONS                                      "
   ]
  },
  {
   "cell_type": "code",
   "execution_count": 3,
   "id": "c7013e7b",
   "metadata": {},
   "outputs": [],
   "source": [
    "import re"
   ]
  },
  {
   "cell_type": "markdown",
   "id": "443d31d8",
   "metadata": {},
   "source": [
    "## (1)Regex in Customer Support\n",
    "## Retrieve email id and phone number"
   ]
  },
  {
   "cell_type": "code",
   "execution_count": 7,
   "id": "16abcd72",
   "metadata": {},
   "outputs": [],
   "source": [
    "chat1 = 'codebasics: you ask lot of questions 😠  1235678912, abc@xyz.com'\n",
    "chat2 = 'codebasics: here it is: (123)-567-8912, abc@xyz.com'\n",
    "chat3 = 'codebasics: yes, phone: 1235678912 email: abc@xyz.com'"
   ]
  },
  {
   "cell_type": "code",
   "execution_count": 5,
   "id": "aa541854",
   "metadata": {},
   "outputs": [
    {
     "data": {
      "text/plain": [
       "['(123)-567-8912']"
      ]
     },
     "execution_count": 5,
     "metadata": {},
     "output_type": "execute_result"
    }
   ],
   "source": [
    "pattern = '''\\d{10}|\\(\\d{3}\\)-\\d{3}-\\d{4}'''\n",
    "\n",
    "matches = re.findall(pattern,chat2)\n",
    "matches"
   ]
  },
  {
   "cell_type": "code",
   "execution_count": 6,
   "id": "3cd4b8de",
   "metadata": {},
   "outputs": [
    {
     "data": {
      "text/plain": [
       "['abc@xyz.com']"
      ]
     },
     "execution_count": 6,
     "metadata": {},
     "output_type": "execute_result"
    }
   ],
   "source": [
    "pattern = '[a-z0-9A-Z_]*@[a-z0-9A-Z_]*.[a-zA-Z]*'\n",
    "matches = re.findall(pattern,chat1)\n",
    "matches\n",
    "\n"
   ]
  },
  {
   "cell_type": "markdown",
   "id": "69422712",
   "metadata": {},
   "source": [
    "## Retrieve Order Number"
   ]
  },
  {
   "cell_type": "code",
   "execution_count": 8,
   "id": "9ceedb33",
   "metadata": {},
   "outputs": [],
   "source": [
    "chat1='codebasics: Hello, I am having an issue with my order # 412889912'\n",
    "chat2='codebasics: I have a problem with my order number 412889912'\n",
    "chat3='codebasics: My order 412889912 is having an issue, I was charged 300$ when online it says 280$'"
   ]
  },
  {
   "cell_type": "code",
   "execution_count": 9,
   "id": "2eb7059f",
   "metadata": {},
   "outputs": [
    {
     "data": {
      "text/plain": [
       "['412889912']"
      ]
     },
     "execution_count": 9,
     "metadata": {},
     "output_type": "execute_result"
    }
   ],
   "source": [
    "pattern = 'order[^\\d]*(\\d*)'\n",
    "matches = re.findall(pattern,chat1)\n",
    "matches"
   ]
  },
  {
   "cell_type": "markdown",
   "id": "9cefa82f",
   "metadata": {},
   "source": [
    "## (2) Regex for Information Extraction"
   ]
  },
  {
   "cell_type": "code",
   "execution_count": 10,
   "id": "d73bc966",
   "metadata": {},
   "outputs": [],
   "source": [
    "text = '''Born\tElon Reeve Musk\n",
    "June 28, 1971 (age 50)\n",
    "Pretoria, Transvaal, South Africa\n",
    "Citizenship\t\n",
    "South Africa (1971–present)\n",
    "Canada (1971–present)\n",
    "United States (2002–present)\n",
    "Education\tUniversity of Pennsylvania (BS, BA)\n",
    "Title\t\n",
    "Founder, CEO and Chief Engineer of SpaceX\n",
    "CEO and product architect of Tesla, Inc.\n",
    "Founder of The Boring Company and X.com (now part of PayPal)\n",
    "Co-founder of Neuralink, OpenAI, and Zip2\n",
    "Spouse(s)\t\n",
    "Justine Wilson\n",
    "​\n",
    "​(m. 2000; div. 2008)​\n",
    "Talulah Riley\n",
    "​\n",
    "​(m. 2010; div. 2012)​\n",
    "​\n",
    "​(m. 2013; div. 2016)'''"
   ]
  },
  {
   "cell_type": "code",
   "execution_count": 11,
   "id": "18d73c29",
   "metadata": {},
   "outputs": [
    {
     "data": {
      "text/plain": [
       "['50']"
      ]
     },
     "execution_count": 11,
     "metadata": {},
     "output_type": "execute_result"
    }
   ],
   "source": [
    "pattern = 'age (\\d+)'\n",
    "matches = re.findall(pattern, text)\n",
    "matches"
   ]
  },
  {
   "cell_type": "code",
   "execution_count": 17,
   "id": "e280e2a6",
   "metadata": {},
   "outputs": [
    {
     "data": {
      "text/plain": [
       "'Elon Reeve Musk'"
      ]
     },
     "execution_count": 17,
     "metadata": {},
     "output_type": "execute_result"
    }
   ],
   "source": [
    "pattern = 'Born(.*)'\n",
    "matches = re.findall(pattern, text)\n",
    "matches[0].strip()"
   ]
  },
  {
   "cell_type": "code",
   "execution_count": 18,
   "id": "21bee0c9",
   "metadata": {},
   "outputs": [
    {
     "data": {
      "text/plain": [
       "'Pretoria, Transvaal, South Africa'"
      ]
     },
     "execution_count": 18,
     "metadata": {},
     "output_type": "execute_result"
    }
   ],
   "source": [
    "pattern = '\\(age.*\\n(.*)'\n",
    "matches = re.findall(pattern, text)\n",
    "matches[0].strip()"
   ]
  },
  {
   "cell_type": "code",
   "execution_count": null,
   "id": "d3e82c85",
   "metadata": {},
   "outputs": [],
   "source": []
  }
 ],
 "metadata": {
  "kernelspec": {
   "display_name": "Python 3 (ipykernel)",
   "language": "python",
   "name": "python3"
  },
  "language_info": {
   "codemirror_mode": {
    "name": "ipython",
    "version": 3
   },
   "file_extension": ".py",
   "mimetype": "text/x-python",
   "name": "python",
   "nbconvert_exporter": "python",
   "pygments_lexer": "ipython3",
   "version": "3.10.9"
  }
 },
 "nbformat": 4,
 "nbformat_minor": 5
}
